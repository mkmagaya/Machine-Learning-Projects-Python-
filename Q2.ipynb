{
  "nbformat": 4,
  "nbformat_minor": 0,
  "metadata": {
    "colab": {
      "name": "Q2.ipynb",
      "provenance": [],
      "include_colab_link": true
    },
    "kernelspec": {
      "display_name": "Python 3 (ipykernel)",
      "language": "python",
      "name": "python3"
    },
    "language_info": {
      "codemirror_mode": {
        "name": "ipython",
        "version": 3
      },
      "file_extension": ".py",
      "mimetype": "text/x-python",
      "name": "python",
      "nbconvert_exporter": "python",
      "pygments_lexer": "ipython3",
      "version": "3.9.6"
    }
  },
  "cells": [
    {
      "cell_type": "markdown",
      "metadata": {
        "id": "view-in-github",
        "colab_type": "text"
      },
      "source": [
        "<a href=\"https://colab.research.google.com/github/mkmagaya/Machine-Learning-Projects-Python-/blob/master/Q2.ipynb\" target=\"_parent\"><img src=\"https://colab.research.google.com/assets/colab-badge.svg\" alt=\"Open In Colab\"/></a>"
      ]
    },
    {
      "cell_type": "code",
      "metadata": {
        "colab": {
          "base_uri": "https://localhost:8080/"
        },
        "id": "2OX6xjxhIIlc",
        "outputId": "112994c5-2e81-451d-8fe9-9fb545042e31"
      },
      "source": [
        "from google.colab import drive\n",
        "drive.mount('/content/drive')"
      ],
      "execution_count": null,
      "outputs": [
        {
          "name": "stdout",
          "output_type": "stream",
          "text": [
            "Mounted at /content/drive\n"
          ]
        }
      ]
    },
    {
      "cell_type": "code",
      "metadata": {
        "id": "W0EMWUf6Jn9g"
      },
      "source": [
        "import pandas as pd\n",
        "import numpy as np\n",
        "from gensim.models import Word2Vec \n",
        "import random\n",
        "from tqdm import tqdm\n",
        "import matplotlib.pyplot as plt\n",
        "%matplotlib inline\n",
        "import warnings;\n",
        "warnings.filterwarnings('ignore')"
      ],
      "execution_count": null,
      "outputs": []
    },
    {
      "cell_type": "code",
      "metadata": {
        "id": "-Wk7S2M8Jrkw"
      },
      "source": [
        "df_movies = pd.read_csv('movies.csv')\n",
        "df_ratings = pd.read_csv('ratings.csv')"
      ],
      "execution_count": null,
      "outputs": []
    },
    {
      "cell_type": "code",
      "metadata": {
        "id": "l2ZQa-OhKeZ2"
      },
      "source": [
        "df = pd.merge(df_movies,df_ratings)"
      ],
      "execution_count": null,
      "outputs": []
    },
    {
      "cell_type": "code",
      "metadata": {
        "colab": {
          "base_uri": "https://localhost:8080/"
        },
        "id": "hH32CLXJLg6B",
        "outputId": "7e0c9ab6-3603-4376-99ae-2ee9069b0bc9"
      },
      "source": [
        "df.shape"
      ],
      "execution_count": null,
      "outputs": [
        {
          "data": {
            "text/plain": [
              "(100836, 6)"
            ]
          },
          "execution_count": 6,
          "metadata": {},
          "output_type": "execute_result"
        }
      ]
    },
    {
      "cell_type": "code",
      "metadata": {
        "id": "srFqIGf8LmV8"
      },
      "source": [
        "df.dropna(inplace=True)"
      ],
      "execution_count": null,
      "outputs": []
    },
    {
      "cell_type": "code",
      "metadata": {
        "colab": {
          "base_uri": "https://localhost:8080/"
        },
        "id": "l8RGtOpALqe6",
        "outputId": "855ad0ef-12c7-416e-8726-c88236b75478"
      },
      "source": [
        "df['movieId']= df['movieId'].astype(str)\n",
        "users = df[\"userId\"].unique().tolist()\n",
        "len(users)"
      ],
      "execution_count": null,
      "outputs": [
        {
          "data": {
            "text/plain": [
              "610"
            ]
          },
          "execution_count": 8,
          "metadata": {},
          "output_type": "execute_result"
        }
      ]
    },
    {
      "cell_type": "code",
      "metadata": {
        "id": "Qfd71BQDLvYd"
      },
      "source": [
        "random.shuffle(users)\n",
        "# extract 90% of user ID's\n",
        "users_train = [users[i] for i in range(round(0.9*len(users)))]\n",
        "# split data into train and validation set\n",
        "train_df = df[df['userId'].isin(users_train)]\n",
        "validation_df = df[~df['userId'].isin(users_train)]"
      ],
      "execution_count": null,
      "outputs": []
    },
    {
      "cell_type": "code",
      "metadata": {
        "colab": {
          "base_uri": "https://localhost:8080/"
        },
        "id": "xP6Rmh__LvKZ",
        "outputId": "c580f03c-3196-4089-b428-090b776eea3c"
      },
      "source": [
        "#list to capture watch history of the users\n",
        "watch_train = []\n",
        "# populate the list with the movie ID\n",
        "for i in tqdm(users_train):\n",
        "    temp = train_df[train_df[\"userId\"] == i][\"movieId\"].tolist()\n",
        "    watch_train.append(temp)"
      ],
      "execution_count": null,
      "outputs": [
        {
          "name": "stderr",
          "output_type": "stream",
          "text": [
            "100%|██████████| 549/549 [00:00<00:00, 1048.92it/s]\n"
          ]
        }
      ]
    },
    {
      "cell_type": "code",
      "metadata": {
        "colab": {
          "base_uri": "https://localhost:8080/"
        },
        "id": "__JhyCwgL4a1",
        "outputId": "6c97ad17-42ec-45cb-e82a-63cd60914eff"
      },
      "source": [
        "model = Word2Vec(window = 10, sg = 1, hs = 0,\n",
        "                 negative = 10, \n",
        "                 alpha=0.03, min_alpha=0.0007,\n",
        "                 seed = 14)\n",
        "model.build_vocab(watch_train, progress_per=200)\n",
        "model.train(watch_train, total_examples = model.corpus_count, \n",
        "            epochs=10, report_delay=1)"
      ],
      "execution_count": null,
      "outputs": [
        {
          "data": {
            "text/plain": [
              "(769356, 874200)"
            ]
          },
          "execution_count": 11,
          "metadata": {},
          "output_type": "execute_result"
        }
      ]
    },
    {
      "cell_type": "code",
      "metadata": {
        "colab": {
          "base_uri": "https://localhost:8080/"
        },
        "id": "_9CngQ7yL9I6",
        "outputId": "b8058de7-306d-42c1-e988-ebd39722b3c3"
      },
      "source": [
        "X = model[model.wv.vocab]\n",
        "X.shape"
      ],
      "execution_count": null,
      "outputs": [
        {
          "data": {
            "text/plain": [
              "(3313, 100)"
            ]
          },
          "execution_count": 12,
          "metadata": {},
          "output_type": "execute_result"
        }
      ]
    },
    {
      "cell_type": "code",
      "metadata": {
        "id": "km1yNqRcMBul"
      },
      "source": [
        "watch = train_df[[\"movieId\", \"title\"]]\n",
        "# remove duplicates\n",
        "watch.drop_duplicates(inplace=True, subset='movieId', keep=\"last\")\n",
        "# create movie id and tittle dictionary\n",
        "watch_dict = watch.groupby('movieId')['title'].apply(list).to_dict()"
      ],
      "execution_count": null,
      "outputs": []
    },
    {
      "cell_type": "code",
      "metadata": {
        "id": "McCwX5OlMGHh"
      },
      "source": [
        "def similar_watch(v, n = 6):\n",
        "     \n",
        "    # extract most similar movies for the input vector\n",
        "    ms = model.similar_by_vector(v, topn= n+1)[1:]\n",
        "     \n",
        "    # extract name and similarity score of the similar movies\n",
        "    new_ms = []\n",
        "    for j in ms:\n",
        "        pair = (watch_dict[j[0]][0], j[1])\n",
        "        new_ms.append(pair)\n",
        "         \n",
        "    return new_ms"
      ],
      "execution_count": null,
      "outputs": []
    },
    {
      "cell_type": "code",
      "metadata": {
        "colab": {
          "base_uri": "https://localhost:8080/"
        },
        "id": "GzoqW6HzMNhR",
        "outputId": "a954a541-9d12-4b8e-f968-fed5d028a6d6"
      },
      "source": [
        "print(watch_dict['307'])\n",
        "similar_watch(model['307'])\n"
      ],
      "execution_count": null,
      "outputs": [
        {
          "name": "stdout",
          "output_type": "stream",
          "text": [
            "['Three Colors: Blue (Trois couleurs: Bleu) (1993)']\n"
          ]
        },
        {
          "data": {
            "text/plain": [
              "[('Three Colors: Red (Trois couleurs: Rouge) (1994)', 0.988335371017456),\n",
              " ('Three Colors: White (Trzy kolory: Bialy) (1994)', 0.98509681224823),\n",
              " ('Shallow Grave (1994)', 0.9719000458717346),\n",
              " ('Secret of Roan Inish, The (1994)', 0.9622868895530701),\n",
              " ('Once Were Warriors (1994)', 0.9549619555473328),\n",
              " ('Swimming with Sharks (1995)', 0.9370958805084229)]"
            ]
          },
          "execution_count": 15,
          "metadata": {},
          "output_type": "execute_result"
        }
      ]
    },
    {
      "cell_type": "code",
      "metadata": {
        "colab": {
          "base_uri": "https://localhost:8080/"
        },
        "id": "P1NVIxBnMUWe",
        "outputId": "31a94ed4-18c3-41f0-fa9d-6db977aed35e"
      },
      "source": [
        "print(watch_dict['1'])\n",
        "similar_watch(model['1'])"
      ],
      "execution_count": null,
      "outputs": [
        {
          "name": "stdout",
          "output_type": "stream",
          "text": [
            "['Toy Story (1995)']\n"
          ]
        },
        {
          "data": {
            "text/plain": [
              "[('Heat (1995)', 0.9217488169670105),\n",
              " ('Sense and Sensibility (1995)', 0.916376531124115),\n",
              " ('Jumanji (1995)', 0.911945104598999),\n",
              " ('Father of the Bride Part II (1995)', 0.9078569412231445),\n",
              " ('Leaving Las Vegas (1995)', 0.907021164894104),\n",
              " ('American President, The (1995)', 0.9068361520767212)]"
            ]
          },
          "execution_count": 16,
          "metadata": {},
          "output_type": "execute_result"
        }
      ]
    },
    {
      "cell_type": "code",
      "metadata": {
        "id": "e86c2MKdMWNS"
      },
      "source": [
        ""
      ],
      "execution_count": null,
      "outputs": []
    }
  ]
}